{
  "nbformat": 4,
  "nbformat_minor": 0,
  "metadata": {
    "colab": {
      "provenance": [],
      "include_colab_link": true
    },
    "kernelspec": {
      "name": "python3",
      "display_name": "Python 3"
    },
    "language_info": {
      "name": "python"
    },
    "gpuClass": "standard"
  },
  "cells": [
    {
      "cell_type": "markdown",
      "metadata": {
        "id": "view-in-github",
        "colab_type": "text"
      },
      "source": [
        "<a href=\"https://colab.research.google.com/github/RonakornST/AI_For_Engineers/blob/main/OpenAIGym(Custom_Environment).ipynb\" target=\"_parent\"><img src=\"https://colab.research.google.com/assets/colab-badge.svg\" alt=\"Open In Colab\"/></a>"
      ]
    },
    {
      "cell_type": "markdown",
      "source": [
        "![alt text](https://www.faststreamtech.com/wp-content/uploads/2021/06/IoT-based-smart-shower.jpg)"
      ],
      "metadata": {
        "id": "3KVFUu1fkiGt"
      }
    },
    {
      "cell_type": "code",
      "execution_count": null,
      "metadata": {
        "id": "8E1DRtJnsQMO"
      },
      "outputs": [],
      "source": [
        "# Enviroment: Smart Shower\n",
        "# Optimal temparature between 37 and 39 degrees\n",
        "# Shower Length : 60 seconds\n",
        "# Action : turn down, leave, turn up\n",
        "# Build a model that keep the optimal range for as long as possible"
      ]
    },
    {
      "cell_type": "code",
      "source": [
        "#Import library\n",
        "import gym\n",
        "from gym.spaces import Discrete, Box\n",
        "import numpy as np\n",
        "import random\n",
        "import plotly.graph_objs as go\n"
      ],
      "metadata": {
        "id": "aNAVSU2QtjYz"
      },
      "execution_count": null,
      "outputs": []
    },
    {
      "cell_type": "code",
      "source": [
        "class ShowerEnv():\n",
        "    def __init__(self):\n",
        "        # Actions we can take, down, stay, up\n",
        "        self.action_space = Discrete(3)\n",
        "        # Temperature array\n",
        "        self.observation_space = Box(low=np.array([0]), high=np.array([100]))\n",
        "        # Set start temp\n",
        "        self.state = 45 + random.randint(-3,3)\n",
        "        # Set shower length\n",
        "        self.shower_length = 60\n",
        "\n",
        "    def step(self, action):\n",
        "        # Apply action\n",
        "        # 0 -1 = -1 temperature\n",
        "        # 1 -1 = 0\n",
        "        # 2 -1 = 1 temperature\n",
        "        self.state += action -1\n",
        "        # Reduce shower length by 1 second\n",
        "        self.shower_length -= 1\n",
        "\n",
        "        # Calculate reward\n",
        "        if self.state >=37 and self.state <=39:\n",
        "            reward =1\n",
        "        else:\n",
        "            reward = -1\n",
        "\n",
        "        # Check if shower is done\n",
        "        if self.shower_length <= 0:\n",
        "            done = True\n",
        "        else:\n",
        "            done = False\n",
        "\n",
        "        # Apply temperature noise\n",
        "        #self.state += random.randint(-1,1)\n",
        "        # Set placeholder for info\n",
        "        info = {}\n",
        "\n",
        "        # Return step information\n",
        "        return self.state, reward, done, info\n",
        "\n",
        "    def render(self):\n",
        "        # Implement viz\n",
        "        pass\n",
        "\n",
        "    def reset(self):\n",
        "        # Reset shower temperature\n",
        "        self.state = 45 + random.randint(-3,3)\n",
        "        # Reset shower time\n",
        "        self.shower_length = 60\n",
        "        return self.state"
      ],
      "metadata": {
        "id": "KdoLFDJTt4e3"
      },
      "execution_count": null,
      "outputs": []
    },
    {
      "cell_type": "code",
      "source": [
        "env = ShowerEnv()"
      ],
      "metadata": {
        "colab": {
          "base_uri": "https://localhost:8080/"
        },
        "id": "s7JzmRrDwNTP",
        "outputId": "5ae57e2b-8843-4c40-d734-2d949a3b00fd"
      },
      "execution_count": null,
      "outputs": [
        {
          "output_type": "stream",
          "name": "stderr",
          "text": [
            "/usr/local/lib/python3.8/dist-packages/gym/spaces/box.py:128: UserWarning: \u001b[33mWARN: Box bound precision lowered by casting to float32\u001b[0m\n",
            "  logger.warn(f\"Box bound precision lowered by casting to {self.dtype}\")\n"
          ]
        }
      ]
    },
    {
      "cell_type": "code",
      "source": [
        "state = env.reset()\n",
        "print(\"(start)\")\n",
        "while True:\n",
        "  action = env.action_space.sample() # random action\n",
        "  state, reward, done, info  = env.step(action) #take action to enviroment\n",
        "  print(f'Action = {action}, State = {state}, Reward = {reward}, Done = {done}')\n",
        "  if done:\n",
        "    break;"
      ],
      "metadata": {
        "colab": {
          "base_uri": "https://localhost:8080/"
        },
        "id": "zdParNNavz3H",
        "outputId": "6e3f75fb-651f-4d4c-b24f-9c0f2919f343"
      },
      "execution_count": null,
      "outputs": [
        {
          "output_type": "stream",
          "name": "stdout",
          "text": [
            "(start)\n",
            "Action = 2, State = 48, Reward = -1, Done = False\n",
            "Action = 2, State = 49, Reward = -1, Done = False\n",
            "Action = 0, State = 48, Reward = -1, Done = False\n",
            "Action = 2, State = 49, Reward = -1, Done = False\n",
            "Action = 0, State = 48, Reward = -1, Done = False\n",
            "Action = 0, State = 47, Reward = -1, Done = False\n",
            "Action = 2, State = 48, Reward = -1, Done = False\n",
            "Action = 1, State = 48, Reward = -1, Done = False\n",
            "Action = 2, State = 49, Reward = -1, Done = False\n",
            "Action = 0, State = 48, Reward = -1, Done = False\n",
            "Action = 0, State = 47, Reward = -1, Done = False\n",
            "Action = 1, State = 47, Reward = -1, Done = False\n",
            "Action = 0, State = 46, Reward = -1, Done = False\n",
            "Action = 2, State = 47, Reward = -1, Done = False\n",
            "Action = 2, State = 48, Reward = -1, Done = False\n",
            "Action = 1, State = 48, Reward = -1, Done = False\n",
            "Action = 2, State = 49, Reward = -1, Done = False\n",
            "Action = 1, State = 49, Reward = -1, Done = False\n",
            "Action = 1, State = 49, Reward = -1, Done = False\n",
            "Action = 1, State = 49, Reward = -1, Done = False\n",
            "Action = 2, State = 50, Reward = -1, Done = False\n",
            "Action = 2, State = 51, Reward = -1, Done = False\n",
            "Action = 0, State = 50, Reward = -1, Done = False\n",
            "Action = 0, State = 49, Reward = -1, Done = False\n",
            "Action = 2, State = 50, Reward = -1, Done = False\n",
            "Action = 0, State = 49, Reward = -1, Done = False\n",
            "Action = 1, State = 49, Reward = -1, Done = False\n",
            "Action = 0, State = 48, Reward = -1, Done = False\n",
            "Action = 0, State = 47, Reward = -1, Done = False\n",
            "Action = 2, State = 48, Reward = -1, Done = False\n",
            "Action = 2, State = 49, Reward = -1, Done = False\n",
            "Action = 2, State = 50, Reward = -1, Done = False\n",
            "Action = 1, State = 50, Reward = -1, Done = False\n",
            "Action = 1, State = 50, Reward = -1, Done = False\n",
            "Action = 2, State = 51, Reward = -1, Done = False\n",
            "Action = 0, State = 50, Reward = -1, Done = False\n",
            "Action = 0, State = 49, Reward = -1, Done = False\n",
            "Action = 0, State = 48, Reward = -1, Done = False\n",
            "Action = 1, State = 48, Reward = -1, Done = False\n",
            "Action = 2, State = 49, Reward = -1, Done = False\n",
            "Action = 0, State = 48, Reward = -1, Done = False\n",
            "Action = 2, State = 49, Reward = -1, Done = False\n",
            "Action = 2, State = 50, Reward = -1, Done = False\n",
            "Action = 0, State = 49, Reward = -1, Done = False\n",
            "Action = 2, State = 50, Reward = -1, Done = False\n",
            "Action = 1, State = 50, Reward = -1, Done = False\n",
            "Action = 1, State = 50, Reward = -1, Done = False\n",
            "Action = 1, State = 50, Reward = -1, Done = False\n",
            "Action = 1, State = 50, Reward = -1, Done = False\n",
            "Action = 2, State = 51, Reward = -1, Done = False\n",
            "Action = 1, State = 51, Reward = -1, Done = False\n",
            "Action = 0, State = 50, Reward = -1, Done = False\n",
            "Action = 0, State = 49, Reward = -1, Done = False\n",
            "Action = 1, State = 49, Reward = -1, Done = False\n",
            "Action = 0, State = 48, Reward = -1, Done = False\n",
            "Action = 0, State = 47, Reward = -1, Done = False\n",
            "Action = 2, State = 48, Reward = -1, Done = False\n",
            "Action = 1, State = 48, Reward = -1, Done = False\n",
            "Action = 2, State = 49, Reward = -1, Done = False\n",
            "Action = 2, State = 50, Reward = -1, Done = True\n"
          ]
        }
      ]
    },
    {
      "cell_type": "code",
      "source": [
        "#Create initial Q-Table\n",
        "Q = np.zeros([100,env.action_space.n])\n",
        "print(Q.shape)\n",
        "print(Q)"
      ],
      "metadata": {
        "colab": {
          "base_uri": "https://localhost:8080/"
        },
        "id": "dgmRzOMtwhYv",
        "outputId": "a57298b7-14cd-4c59-b464-72b99ebef06e"
      },
      "execution_count": null,
      "outputs": [
        {
          "output_type": "stream",
          "name": "stdout",
          "text": [
            "(100, 3)\n",
            "[[0. 0. 0.]\n",
            " [0. 0. 0.]\n",
            " [0. 0. 0.]\n",
            " [0. 0. 0.]\n",
            " [0. 0. 0.]\n",
            " [0. 0. 0.]\n",
            " [0. 0. 0.]\n",
            " [0. 0. 0.]\n",
            " [0. 0. 0.]\n",
            " [0. 0. 0.]\n",
            " [0. 0. 0.]\n",
            " [0. 0. 0.]\n",
            " [0. 0. 0.]\n",
            " [0. 0. 0.]\n",
            " [0. 0. 0.]\n",
            " [0. 0. 0.]\n",
            " [0. 0. 0.]\n",
            " [0. 0. 0.]\n",
            " [0. 0. 0.]\n",
            " [0. 0. 0.]\n",
            " [0. 0. 0.]\n",
            " [0. 0. 0.]\n",
            " [0. 0. 0.]\n",
            " [0. 0. 0.]\n",
            " [0. 0. 0.]\n",
            " [0. 0. 0.]\n",
            " [0. 0. 0.]\n",
            " [0. 0. 0.]\n",
            " [0. 0. 0.]\n",
            " [0. 0. 0.]\n",
            " [0. 0. 0.]\n",
            " [0. 0. 0.]\n",
            " [0. 0. 0.]\n",
            " [0. 0. 0.]\n",
            " [0. 0. 0.]\n",
            " [0. 0. 0.]\n",
            " [0. 0. 0.]\n",
            " [0. 0. 0.]\n",
            " [0. 0. 0.]\n",
            " [0. 0. 0.]\n",
            " [0. 0. 0.]\n",
            " [0. 0. 0.]\n",
            " [0. 0. 0.]\n",
            " [0. 0. 0.]\n",
            " [0. 0. 0.]\n",
            " [0. 0. 0.]\n",
            " [0. 0. 0.]\n",
            " [0. 0. 0.]\n",
            " [0. 0. 0.]\n",
            " [0. 0. 0.]\n",
            " [0. 0. 0.]\n",
            " [0. 0. 0.]\n",
            " [0. 0. 0.]\n",
            " [0. 0. 0.]\n",
            " [0. 0. 0.]\n",
            " [0. 0. 0.]\n",
            " [0. 0. 0.]\n",
            " [0. 0. 0.]\n",
            " [0. 0. 0.]\n",
            " [0. 0. 0.]\n",
            " [0. 0. 0.]\n",
            " [0. 0. 0.]\n",
            " [0. 0. 0.]\n",
            " [0. 0. 0.]\n",
            " [0. 0. 0.]\n",
            " [0. 0. 0.]\n",
            " [0. 0. 0.]\n",
            " [0. 0. 0.]\n",
            " [0. 0. 0.]\n",
            " [0. 0. 0.]\n",
            " [0. 0. 0.]\n",
            " [0. 0. 0.]\n",
            " [0. 0. 0.]\n",
            " [0. 0. 0.]\n",
            " [0. 0. 0.]\n",
            " [0. 0. 0.]\n",
            " [0. 0. 0.]\n",
            " [0. 0. 0.]\n",
            " [0. 0. 0.]\n",
            " [0. 0. 0.]\n",
            " [0. 0. 0.]\n",
            " [0. 0. 0.]\n",
            " [0. 0. 0.]\n",
            " [0. 0. 0.]\n",
            " [0. 0. 0.]\n",
            " [0. 0. 0.]\n",
            " [0. 0. 0.]\n",
            " [0. 0. 0.]\n",
            " [0. 0. 0.]\n",
            " [0. 0. 0.]\n",
            " [0. 0. 0.]\n",
            " [0. 0. 0.]\n",
            " [0. 0. 0.]\n",
            " [0. 0. 0.]\n",
            " [0. 0. 0.]\n",
            " [0. 0. 0.]\n",
            " [0. 0. 0.]\n",
            " [0. 0. 0.]\n",
            " [0. 0. 0.]\n",
            " [0. 0. 0.]]\n"
          ]
        }
      ]
    },
    {
      "cell_type": "code",
      "source": [
        "#Set hyperparameters\n",
        "learning_rate = 0.1\n",
        "gamma = 0.8\n",
        "episodes = 70"
      ],
      "metadata": {
        "id": "HKRDZqF2x45G"
      },
      "execution_count": null,
      "outputs": []
    },
    {
      "cell_type": "code",
      "source": [
        "# Q-learning\n",
        "reward_list = []\n",
        "\n",
        "for i in range(episodes):\n",
        "  state = env.reset()\n",
        "  sum_reward = 0\n",
        "  while True:\n",
        "    action = np.argmax(Q[state,:])# + np.random.randn(1, env.action_space.n)*(1./(i+1)))\n",
        "\n",
        "    next_state, reward, done, info = env.step(action)\n",
        "    Q[state,action] = Q[state,action] + learning_rate*(reward+gamma*np.max(Q[next_state,:]))\n",
        "\n",
        "    sum_reward = sum_reward+reward\n",
        "    state = next_state\n",
        "\n",
        "\n",
        "    if done == True:\n",
        "      break\n",
        "\n",
        "  reward_list.append(sum_reward)"
      ],
      "metadata": {
        "id": "cRTHu16Yx7lP"
      },
      "execution_count": null,
      "outputs": []
    },
    {
      "cell_type": "code",
      "source": [
        "#Plot total reward\n",
        "h = go.Scatter(y=reward_list, mode='lines', line = dict(width=2,color='red'))\n",
        "data = [h]\n",
        "layout = go.Layout(title='Total Reward', xaxis = dict(title ='Epochs'),yaxis=dict(title=''))\n",
        "fig = go.Figure(data = data, layout=layout)\n",
        "fig.show(renderer='colab')"
      ],
      "metadata": {
        "colab": {
          "base_uri": "https://localhost:8080/",
          "height": 542
        },
        "id": "404cGeq1yAHc",
        "outputId": "863d82f2-4072-4046-8e05-7fa37bf3c6ef"
      },
      "execution_count": null,
      "outputs": [
        {
          "output_type": "display_data",
          "data": {
            "text/html": [
              "<html>\n",
              "<head><meta charset=\"utf-8\" /></head>\n",
              "<body>\n",
              "    <div>            <script src=\"https://cdnjs.cloudflare.com/ajax/libs/mathjax/2.7.5/MathJax.js?config=TeX-AMS-MML_SVG\"></script><script type=\"text/javascript\">if (window.MathJax) {MathJax.Hub.Config({SVG: {font: \"STIX-Web\"}});}</script>                <script type=\"text/javascript\">window.PlotlyConfig = {MathJaxConfig: 'local'};</script>\n",
              "        <script src=\"https://cdn.plot.ly/plotly-2.8.3.min.js\"></script>                <div id=\"63d060ba-81ee-432a-b4a0-e59f2464e3c8\" class=\"plotly-graph-div\" style=\"height:525px; width:100%;\"></div>            <script type=\"text/javascript\">                                    window.PLOTLYENV=window.PLOTLYENV || {};                                    if (document.getElementById(\"63d060ba-81ee-432a-b4a0-e59f2464e3c8\")) {                    Plotly.newPlot(                        \"63d060ba-81ee-432a-b4a0-e59f2464e3c8\",                        [{\"line\":{\"color\":\"red\",\"width\":2},\"mode\":\"lines\",\"y\":[-54,-60,32,-60,26,-60,36,46,-60,-30,-60,-60,-60,-38,-60,28,-10,-60,-8,56,36,-60,42,56,16,52,-60,56,-60,52,50,54,52,44,40,52,56,54,54,-60,50,46,54,52,52,54,56,52,54,48,32,50,54,44,54,44,56,56,52,44,48,52,46,48,46,56,50,48,54,54],\"type\":\"scatter\"}],                        {\"title\":{\"text\":\"Total Reward\"},\"xaxis\":{\"title\":{\"text\":\"Epochs\"}},\"yaxis\":{\"title\":{\"text\":\"\"}},\"template\":{\"data\":{\"bar\":[{\"error_x\":{\"color\":\"#2a3f5f\"},\"error_y\":{\"color\":\"#2a3f5f\"},\"marker\":{\"line\":{\"color\":\"#E5ECF6\",\"width\":0.5},\"pattern\":{\"fillmode\":\"overlay\",\"size\":10,\"solidity\":0.2}},\"type\":\"bar\"}],\"barpolar\":[{\"marker\":{\"line\":{\"color\":\"#E5ECF6\",\"width\":0.5},\"pattern\":{\"fillmode\":\"overlay\",\"size\":10,\"solidity\":0.2}},\"type\":\"barpolar\"}],\"carpet\":[{\"aaxis\":{\"endlinecolor\":\"#2a3f5f\",\"gridcolor\":\"white\",\"linecolor\":\"white\",\"minorgridcolor\":\"white\",\"startlinecolor\":\"#2a3f5f\"},\"baxis\":{\"endlinecolor\":\"#2a3f5f\",\"gridcolor\":\"white\",\"linecolor\":\"white\",\"minorgridcolor\":\"white\",\"startlinecolor\":\"#2a3f5f\"},\"type\":\"carpet\"}],\"choropleth\":[{\"colorbar\":{\"outlinewidth\":0,\"ticks\":\"\"},\"type\":\"choropleth\"}],\"contour\":[{\"colorbar\":{\"outlinewidth\":0,\"ticks\":\"\"},\"colorscale\":[[0.0,\"#0d0887\"],[0.1111111111111111,\"#46039f\"],[0.2222222222222222,\"#7201a8\"],[0.3333333333333333,\"#9c179e\"],[0.4444444444444444,\"#bd3786\"],[0.5555555555555556,\"#d8576b\"],[0.6666666666666666,\"#ed7953\"],[0.7777777777777778,\"#fb9f3a\"],[0.8888888888888888,\"#fdca26\"],[1.0,\"#f0f921\"]],\"type\":\"contour\"}],\"contourcarpet\":[{\"colorbar\":{\"outlinewidth\":0,\"ticks\":\"\"},\"type\":\"contourcarpet\"}],\"heatmap\":[{\"colorbar\":{\"outlinewidth\":0,\"ticks\":\"\"},\"colorscale\":[[0.0,\"#0d0887\"],[0.1111111111111111,\"#46039f\"],[0.2222222222222222,\"#7201a8\"],[0.3333333333333333,\"#9c179e\"],[0.4444444444444444,\"#bd3786\"],[0.5555555555555556,\"#d8576b\"],[0.6666666666666666,\"#ed7953\"],[0.7777777777777778,\"#fb9f3a\"],[0.8888888888888888,\"#fdca26\"],[1.0,\"#f0f921\"]],\"type\":\"heatmap\"}],\"heatmapgl\":[{\"colorbar\":{\"outlinewidth\":0,\"ticks\":\"\"},\"colorscale\":[[0.0,\"#0d0887\"],[0.1111111111111111,\"#46039f\"],[0.2222222222222222,\"#7201a8\"],[0.3333333333333333,\"#9c179e\"],[0.4444444444444444,\"#bd3786\"],[0.5555555555555556,\"#d8576b\"],[0.6666666666666666,\"#ed7953\"],[0.7777777777777778,\"#fb9f3a\"],[0.8888888888888888,\"#fdca26\"],[1.0,\"#f0f921\"]],\"type\":\"heatmapgl\"}],\"histogram\":[{\"marker\":{\"pattern\":{\"fillmode\":\"overlay\",\"size\":10,\"solidity\":0.2}},\"type\":\"histogram\"}],\"histogram2d\":[{\"colorbar\":{\"outlinewidth\":0,\"ticks\":\"\"},\"colorscale\":[[0.0,\"#0d0887\"],[0.1111111111111111,\"#46039f\"],[0.2222222222222222,\"#7201a8\"],[0.3333333333333333,\"#9c179e\"],[0.4444444444444444,\"#bd3786\"],[0.5555555555555556,\"#d8576b\"],[0.6666666666666666,\"#ed7953\"],[0.7777777777777778,\"#fb9f3a\"],[0.8888888888888888,\"#fdca26\"],[1.0,\"#f0f921\"]],\"type\":\"histogram2d\"}],\"histogram2dcontour\":[{\"colorbar\":{\"outlinewidth\":0,\"ticks\":\"\"},\"colorscale\":[[0.0,\"#0d0887\"],[0.1111111111111111,\"#46039f\"],[0.2222222222222222,\"#7201a8\"],[0.3333333333333333,\"#9c179e\"],[0.4444444444444444,\"#bd3786\"],[0.5555555555555556,\"#d8576b\"],[0.6666666666666666,\"#ed7953\"],[0.7777777777777778,\"#fb9f3a\"],[0.8888888888888888,\"#fdca26\"],[1.0,\"#f0f921\"]],\"type\":\"histogram2dcontour\"}],\"mesh3d\":[{\"colorbar\":{\"outlinewidth\":0,\"ticks\":\"\"},\"type\":\"mesh3d\"}],\"parcoords\":[{\"line\":{\"colorbar\":{\"outlinewidth\":0,\"ticks\":\"\"}},\"type\":\"parcoords\"}],\"pie\":[{\"automargin\":true,\"type\":\"pie\"}],\"scatter\":[{\"marker\":{\"colorbar\":{\"outlinewidth\":0,\"ticks\":\"\"}},\"type\":\"scatter\"}],\"scatter3d\":[{\"line\":{\"colorbar\":{\"outlinewidth\":0,\"ticks\":\"\"}},\"marker\":{\"colorbar\":{\"outlinewidth\":0,\"ticks\":\"\"}},\"type\":\"scatter3d\"}],\"scattercarpet\":[{\"marker\":{\"colorbar\":{\"outlinewidth\":0,\"ticks\":\"\"}},\"type\":\"scattercarpet\"}],\"scattergeo\":[{\"marker\":{\"colorbar\":{\"outlinewidth\":0,\"ticks\":\"\"}},\"type\":\"scattergeo\"}],\"scattergl\":[{\"marker\":{\"colorbar\":{\"outlinewidth\":0,\"ticks\":\"\"}},\"type\":\"scattergl\"}],\"scattermapbox\":[{\"marker\":{\"colorbar\":{\"outlinewidth\":0,\"ticks\":\"\"}},\"type\":\"scattermapbox\"}],\"scatterpolar\":[{\"marker\":{\"colorbar\":{\"outlinewidth\":0,\"ticks\":\"\"}},\"type\":\"scatterpolar\"}],\"scatterpolargl\":[{\"marker\":{\"colorbar\":{\"outlinewidth\":0,\"ticks\":\"\"}},\"type\":\"scatterpolargl\"}],\"scatterternary\":[{\"marker\":{\"colorbar\":{\"outlinewidth\":0,\"ticks\":\"\"}},\"type\":\"scatterternary\"}],\"surface\":[{\"colorbar\":{\"outlinewidth\":0,\"ticks\":\"\"},\"colorscale\":[[0.0,\"#0d0887\"],[0.1111111111111111,\"#46039f\"],[0.2222222222222222,\"#7201a8\"],[0.3333333333333333,\"#9c179e\"],[0.4444444444444444,\"#bd3786\"],[0.5555555555555556,\"#d8576b\"],[0.6666666666666666,\"#ed7953\"],[0.7777777777777778,\"#fb9f3a\"],[0.8888888888888888,\"#fdca26\"],[1.0,\"#f0f921\"]],\"type\":\"surface\"}],\"table\":[{\"cells\":{\"fill\":{\"color\":\"#EBF0F8\"},\"line\":{\"color\":\"white\"}},\"header\":{\"fill\":{\"color\":\"#C8D4E3\"},\"line\":{\"color\":\"white\"}},\"type\":\"table\"}]},\"layout\":{\"annotationdefaults\":{\"arrowcolor\":\"#2a3f5f\",\"arrowhead\":0,\"arrowwidth\":1},\"autotypenumbers\":\"strict\",\"coloraxis\":{\"colorbar\":{\"outlinewidth\":0,\"ticks\":\"\"}},\"colorscale\":{\"diverging\":[[0,\"#8e0152\"],[0.1,\"#c51b7d\"],[0.2,\"#de77ae\"],[0.3,\"#f1b6da\"],[0.4,\"#fde0ef\"],[0.5,\"#f7f7f7\"],[0.6,\"#e6f5d0\"],[0.7,\"#b8e186\"],[0.8,\"#7fbc41\"],[0.9,\"#4d9221\"],[1,\"#276419\"]],\"sequential\":[[0.0,\"#0d0887\"],[0.1111111111111111,\"#46039f\"],[0.2222222222222222,\"#7201a8\"],[0.3333333333333333,\"#9c179e\"],[0.4444444444444444,\"#bd3786\"],[0.5555555555555556,\"#d8576b\"],[0.6666666666666666,\"#ed7953\"],[0.7777777777777778,\"#fb9f3a\"],[0.8888888888888888,\"#fdca26\"],[1.0,\"#f0f921\"]],\"sequentialminus\":[[0.0,\"#0d0887\"],[0.1111111111111111,\"#46039f\"],[0.2222222222222222,\"#7201a8\"],[0.3333333333333333,\"#9c179e\"],[0.4444444444444444,\"#bd3786\"],[0.5555555555555556,\"#d8576b\"],[0.6666666666666666,\"#ed7953\"],[0.7777777777777778,\"#fb9f3a\"],[0.8888888888888888,\"#fdca26\"],[1.0,\"#f0f921\"]]},\"colorway\":[\"#636efa\",\"#EF553B\",\"#00cc96\",\"#ab63fa\",\"#FFA15A\",\"#19d3f3\",\"#FF6692\",\"#B6E880\",\"#FF97FF\",\"#FECB52\"],\"font\":{\"color\":\"#2a3f5f\"},\"geo\":{\"bgcolor\":\"white\",\"lakecolor\":\"white\",\"landcolor\":\"#E5ECF6\",\"showlakes\":true,\"showland\":true,\"subunitcolor\":\"white\"},\"hoverlabel\":{\"align\":\"left\"},\"hovermode\":\"closest\",\"mapbox\":{\"style\":\"light\"},\"paper_bgcolor\":\"white\",\"plot_bgcolor\":\"#E5ECF6\",\"polar\":{\"angularaxis\":{\"gridcolor\":\"white\",\"linecolor\":\"white\",\"ticks\":\"\"},\"bgcolor\":\"#E5ECF6\",\"radialaxis\":{\"gridcolor\":\"white\",\"linecolor\":\"white\",\"ticks\":\"\"}},\"scene\":{\"xaxis\":{\"backgroundcolor\":\"#E5ECF6\",\"gridcolor\":\"white\",\"gridwidth\":2,\"linecolor\":\"white\",\"showbackground\":true,\"ticks\":\"\",\"zerolinecolor\":\"white\"},\"yaxis\":{\"backgroundcolor\":\"#E5ECF6\",\"gridcolor\":\"white\",\"gridwidth\":2,\"linecolor\":\"white\",\"showbackground\":true,\"ticks\":\"\",\"zerolinecolor\":\"white\"},\"zaxis\":{\"backgroundcolor\":\"#E5ECF6\",\"gridcolor\":\"white\",\"gridwidth\":2,\"linecolor\":\"white\",\"showbackground\":true,\"ticks\":\"\",\"zerolinecolor\":\"white\"}},\"shapedefaults\":{\"line\":{\"color\":\"#2a3f5f\"}},\"ternary\":{\"aaxis\":{\"gridcolor\":\"white\",\"linecolor\":\"white\",\"ticks\":\"\"},\"baxis\":{\"gridcolor\":\"white\",\"linecolor\":\"white\",\"ticks\":\"\"},\"bgcolor\":\"#E5ECF6\",\"caxis\":{\"gridcolor\":\"white\",\"linecolor\":\"white\",\"ticks\":\"\"}},\"title\":{\"x\":0.05},\"xaxis\":{\"automargin\":true,\"gridcolor\":\"white\",\"linecolor\":\"white\",\"ticks\":\"\",\"title\":{\"standoff\":15},\"zerolinecolor\":\"white\",\"zerolinewidth\":2},\"yaxis\":{\"automargin\":true,\"gridcolor\":\"white\",\"linecolor\":\"white\",\"ticks\":\"\",\"title\":{\"standoff\":15},\"zerolinecolor\":\"white\",\"zerolinewidth\":2}}}},                        {\"responsive\": true}                    ).then(function(){\n",
              "                            \n",
              "var gd = document.getElementById('63d060ba-81ee-432a-b4a0-e59f2464e3c8');\n",
              "var x = new MutationObserver(function (mutations, observer) {{\n",
              "        var display = window.getComputedStyle(gd).display;\n",
              "        if (!display || display === 'none') {{\n",
              "            console.log([gd, 'removed!']);\n",
              "            Plotly.purge(gd);\n",
              "            observer.disconnect();\n",
              "        }}\n",
              "}});\n",
              "\n",
              "// Listen for the removal of the full notebook cells\n",
              "var notebookContainer = gd.closest('#notebook-container');\n",
              "if (notebookContainer) {{\n",
              "    x.observe(notebookContainer, {childList: true});\n",
              "}}\n",
              "\n",
              "// Listen for the clearing of the current output cell\n",
              "var outputEl = gd.closest('.output');\n",
              "if (outputEl) {{\n",
              "    x.observe(outputEl, {childList: true});\n",
              "}}\n",
              "\n",
              "                        })                };                            </script>        </div>\n",
              "</body>\n",
              "</html>"
            ]
          },
          "metadata": {}
        }
      ]
    },
    {
      "cell_type": "code",
      "source": [
        "print(Q)"
      ],
      "metadata": {
        "colab": {
          "base_uri": "https://localhost:8080/"
        },
        "id": "23GzCNNyyDKV",
        "outputId": "2c946d56-1110-416f-f1db-2328c836f995"
      },
      "execution_count": null,
      "outputs": [
        {
          "output_type": "stream",
          "name": "stdout",
          "text": [
            "[[-1.00000000e-01  0.00000000e+00  0.00000000e+00]\n",
            " [-1.00000000e-01  0.00000000e+00  0.00000000e+00]\n",
            " [-1.00000000e-01  0.00000000e+00  0.00000000e+00]\n",
            " [-1.00000000e-01  0.00000000e+00  0.00000000e+00]\n",
            " [-1.00000000e-01  0.00000000e+00  0.00000000e+00]\n",
            " [-1.00000000e-01  0.00000000e+00  0.00000000e+00]\n",
            " [-1.00000000e-01  0.00000000e+00  0.00000000e+00]\n",
            " [-1.00000000e-01  0.00000000e+00  0.00000000e+00]\n",
            " [-1.00000000e-01  0.00000000e+00  0.00000000e+00]\n",
            " [-1.00000000e-01  0.00000000e+00  0.00000000e+00]\n",
            " [-1.00000000e-01  0.00000000e+00  0.00000000e+00]\n",
            " [-1.00000000e-01  0.00000000e+00  0.00000000e+00]\n",
            " [-1.00000000e-01  0.00000000e+00  0.00000000e+00]\n",
            " [-1.00000000e-01  0.00000000e+00  0.00000000e+00]\n",
            " [-1.00000000e-01  0.00000000e+00  0.00000000e+00]\n",
            " [-1.00000000e-01  0.00000000e+00  0.00000000e+00]\n",
            " [-1.00000000e-01  0.00000000e+00  0.00000000e+00]\n",
            " [-1.00000000e-01  0.00000000e+00  0.00000000e+00]\n",
            " [-1.00000000e-01  0.00000000e+00  0.00000000e+00]\n",
            " [-1.00000000e-01  0.00000000e+00  0.00000000e+00]\n",
            " [-1.00000000e-01  0.00000000e+00  0.00000000e+00]\n",
            " [-1.00000000e-01  0.00000000e+00  0.00000000e+00]\n",
            " [-1.00000000e-01  0.00000000e+00  0.00000000e+00]\n",
            " [-1.00000000e-01  0.00000000e+00  0.00000000e+00]\n",
            " [-1.00000000e-01  0.00000000e+00  0.00000000e+00]\n",
            " [-1.00000000e-01  0.00000000e+00  0.00000000e+00]\n",
            " [-1.00000000e-01  0.00000000e+00  0.00000000e+00]\n",
            " [-1.00000000e-01  0.00000000e+00  0.00000000e+00]\n",
            " [-1.00000000e-01  0.00000000e+00  0.00000000e+00]\n",
            " [-1.00000000e-01  0.00000000e+00  0.00000000e+00]\n",
            " [-1.00000000e-01  0.00000000e+00  0.00000000e+00]\n",
            " [-1.00000000e-01  0.00000000e+00  0.00000000e+00]\n",
            " [-1.00000000e-01  0.00000000e+00  0.00000000e+00]\n",
            " [-1.00000000e-01  0.00000000e+00  0.00000000e+00]\n",
            " [-1.00000000e-01  0.00000000e+00  0.00000000e+00]\n",
            " [-1.00000000e-01  0.00000000e+00  0.00000000e+00]\n",
            " [-1.00000000e-01  0.00000000e+00  0.00000000e+00]\n",
            " [-1.00000000e-01  8.11434878e+90  0.00000000e+00]\n",
            " [ 1.03359157e+88  0.00000000e+00  0.00000000e+00]\n",
            " [ 1.32723193e+85  0.00000000e+00  0.00000000e+00]\n",
            " [ 2.12819402e+82  0.00000000e+00  0.00000000e+00]\n",
            " [ 3.12625740e+79 -5.86660096e-01 -5.63021793e-01]\n",
            " [ 3.80693478e+76 -1.66454875e+00 -1.56597727e+00]\n",
            " [ 6.57784313e+73 -2.71521139e+00 -2.81084699e+00]\n",
            " [ 3.67955857e+67 -4.57619643e+00 -4.48762084e+00]\n",
            " [ 1.38396512e+63 -6.08932956e+00 -6.54828099e+00]\n",
            " [ 1.84092535e+60 -7.99544151e+00 -8.14646935e+00]\n",
            " [ 7.11878907e+53 -1.03965936e+01 -1.09200126e+01]\n",
            " [ 4.42769253e+33 -1.03965936e+01 -1.09420305e+01]\n",
            " [-8.97220367e+00 -8.73507684e+00 -8.35132466e+00]\n",
            " [-6.46672655e+00 -6.08932956e+00 -6.18779552e+00]\n",
            " [-5.14813134e+00 -5.54567552e+00 -5.59123658e+00]\n",
            " [-4.69537251e+00 -4.57619643e+00 -4.67361828e+00]\n",
            " [-3.81663779e+00 -3.74502437e+00 -3.83097770e+00]\n",
            " [-3.06490343e+00 -3.03242830e+00 -2.98607938e+00]\n",
            " [-2.29994841e+00 -2.14952966e+00 -2.26794768e+00]\n",
            " [-1.70024341e+00 -1.66454875e+00 -1.79269274e+00]\n",
            " [-1.25145422e+00 -1.24875578e+00 -1.26448583e+00]\n",
            " [-8.23286665e-01 -8.92280336e-01 -9.39942400e-01]\n",
            " [-6.66309136e-01 -7.33592904e-01 -7.83302400e-01]\n",
            " [-6.70257635e-01 -5.86660096e-01 -5.49331200e-01]\n",
            " [-4.86660096e-01 -4.50611200e-01 -4.24640000e-01]\n",
            " [-3.50611200e-01 -3.24640000e-01 -3.08640000e-01]\n",
            " [-2.24640000e-01 -2.08000000e-01 -2.00000000e-01]\n",
            " [-1.08000000e-01 -1.00000000e-01 -1.00000000e-01]\n",
            " [-1.08000000e-01  0.00000000e+00  0.00000000e+00]\n",
            " [ 0.00000000e+00  0.00000000e+00  0.00000000e+00]\n",
            " [ 0.00000000e+00  0.00000000e+00  0.00000000e+00]\n",
            " [ 0.00000000e+00  0.00000000e+00  0.00000000e+00]\n",
            " [ 0.00000000e+00  0.00000000e+00  0.00000000e+00]\n",
            " [ 0.00000000e+00  0.00000000e+00  0.00000000e+00]\n",
            " [ 0.00000000e+00  0.00000000e+00  0.00000000e+00]\n",
            " [ 0.00000000e+00  0.00000000e+00  0.00000000e+00]\n",
            " [ 0.00000000e+00  0.00000000e+00  0.00000000e+00]\n",
            " [ 0.00000000e+00  0.00000000e+00  0.00000000e+00]\n",
            " [ 0.00000000e+00  0.00000000e+00  0.00000000e+00]\n",
            " [ 0.00000000e+00  0.00000000e+00  0.00000000e+00]\n",
            " [ 0.00000000e+00  0.00000000e+00  0.00000000e+00]\n",
            " [ 0.00000000e+00  0.00000000e+00  0.00000000e+00]\n",
            " [ 0.00000000e+00  0.00000000e+00  0.00000000e+00]\n",
            " [ 0.00000000e+00  0.00000000e+00  0.00000000e+00]\n",
            " [ 0.00000000e+00  0.00000000e+00  0.00000000e+00]\n",
            " [ 0.00000000e+00  0.00000000e+00  0.00000000e+00]\n",
            " [ 0.00000000e+00  0.00000000e+00  0.00000000e+00]\n",
            " [-1.00000000e-01  0.00000000e+00  0.00000000e+00]\n",
            " [-1.00000000e-01  0.00000000e+00  0.00000000e+00]\n",
            " [-1.00000000e-01  0.00000000e+00  0.00000000e+00]\n",
            " [-1.00000000e-01  0.00000000e+00  0.00000000e+00]\n",
            " [-1.00000000e-01  0.00000000e+00  0.00000000e+00]\n",
            " [-1.00000000e-01  0.00000000e+00  0.00000000e+00]\n",
            " [-1.00000000e-01  0.00000000e+00  0.00000000e+00]\n",
            " [-1.00000000e-01  0.00000000e+00  0.00000000e+00]\n",
            " [-1.00000000e-01  0.00000000e+00  0.00000000e+00]\n",
            " [-1.00000000e-01  0.00000000e+00  0.00000000e+00]\n",
            " [-1.00000000e-01  0.00000000e+00  0.00000000e+00]\n",
            " [-1.00000000e-01  0.00000000e+00  0.00000000e+00]\n",
            " [-1.00000000e-01  0.00000000e+00  0.00000000e+00]\n",
            " [-1.00000000e-01  0.00000000e+00  0.00000000e+00]\n",
            " [-1.00000000e-01  0.00000000e+00  0.00000000e+00]\n",
            " [-1.00000000e-01  0.00000000e+00  0.00000000e+00]]\n"
          ]
        }
      ]
    },
    {
      "cell_type": "code",
      "source": [
        "#Inference\n",
        "state = env.reset()\n",
        "print(\"(start)\")\n",
        "while True:\n",
        "  action = np.argmax(Q[state,:]) # random action\n",
        "  state, reward, done, info  = env.step(action) #take action to enviroment\n",
        "  print(f'Action = {action}, State = {state}, Reward = {reward}, Time-length = {env.shower_length}, Done = {done}')\n",
        "  if done:\n",
        "    break;"
      ],
      "metadata": {
        "colab": {
          "base_uri": "https://localhost:8080/"
        },
        "id": "ZrvmJe720lmn",
        "outputId": "a8967316-61e4-41af-fbdb-a3df0c55f17d"
      },
      "execution_count": null,
      "outputs": [
        {
          "output_type": "stream",
          "name": "stdout",
          "text": [
            "(start)\n",
            "Action = 0, State = 42, Reward = -1, Time-length = 59, Done = False\n",
            "Action = 0, State = 41, Reward = -1, Time-length = 58, Done = False\n",
            "Action = 0, State = 40, Reward = -1, Time-length = 57, Done = False\n",
            "Action = 0, State = 39, Reward = 1, Time-length = 56, Done = False\n",
            "Action = 0, State = 38, Reward = 1, Time-length = 55, Done = False\n",
            "Action = 0, State = 37, Reward = 1, Time-length = 54, Done = False\n",
            "Action = 1, State = 37, Reward = 1, Time-length = 53, Done = False\n",
            "Action = 1, State = 37, Reward = 1, Time-length = 52, Done = False\n",
            "Action = 1, State = 37, Reward = 1, Time-length = 51, Done = False\n",
            "Action = 1, State = 37, Reward = 1, Time-length = 50, Done = False\n",
            "Action = 1, State = 37, Reward = 1, Time-length = 49, Done = False\n",
            "Action = 1, State = 37, Reward = 1, Time-length = 48, Done = False\n",
            "Action = 1, State = 37, Reward = 1, Time-length = 47, Done = False\n",
            "Action = 1, State = 37, Reward = 1, Time-length = 46, Done = False\n",
            "Action = 1, State = 37, Reward = 1, Time-length = 45, Done = False\n",
            "Action = 1, State = 37, Reward = 1, Time-length = 44, Done = False\n",
            "Action = 1, State = 37, Reward = 1, Time-length = 43, Done = False\n",
            "Action = 1, State = 37, Reward = 1, Time-length = 42, Done = False\n",
            "Action = 1, State = 37, Reward = 1, Time-length = 41, Done = False\n",
            "Action = 1, State = 37, Reward = 1, Time-length = 40, Done = False\n",
            "Action = 1, State = 37, Reward = 1, Time-length = 39, Done = False\n",
            "Action = 1, State = 37, Reward = 1, Time-length = 38, Done = False\n",
            "Action = 1, State = 37, Reward = 1, Time-length = 37, Done = False\n",
            "Action = 1, State = 37, Reward = 1, Time-length = 36, Done = False\n",
            "Action = 1, State = 37, Reward = 1, Time-length = 35, Done = False\n",
            "Action = 1, State = 37, Reward = 1, Time-length = 34, Done = False\n",
            "Action = 1, State = 37, Reward = 1, Time-length = 33, Done = False\n",
            "Action = 1, State = 37, Reward = 1, Time-length = 32, Done = False\n",
            "Action = 1, State = 37, Reward = 1, Time-length = 31, Done = False\n",
            "Action = 1, State = 37, Reward = 1, Time-length = 30, Done = False\n",
            "Action = 1, State = 37, Reward = 1, Time-length = 29, Done = False\n",
            "Action = 1, State = 37, Reward = 1, Time-length = 28, Done = False\n",
            "Action = 1, State = 37, Reward = 1, Time-length = 27, Done = False\n",
            "Action = 1, State = 37, Reward = 1, Time-length = 26, Done = False\n",
            "Action = 1, State = 37, Reward = 1, Time-length = 25, Done = False\n",
            "Action = 1, State = 37, Reward = 1, Time-length = 24, Done = False\n",
            "Action = 1, State = 37, Reward = 1, Time-length = 23, Done = False\n",
            "Action = 1, State = 37, Reward = 1, Time-length = 22, Done = False\n",
            "Action = 1, State = 37, Reward = 1, Time-length = 21, Done = False\n",
            "Action = 1, State = 37, Reward = 1, Time-length = 20, Done = False\n",
            "Action = 1, State = 37, Reward = 1, Time-length = 19, Done = False\n",
            "Action = 1, State = 37, Reward = 1, Time-length = 18, Done = False\n",
            "Action = 1, State = 37, Reward = 1, Time-length = 17, Done = False\n",
            "Action = 1, State = 37, Reward = 1, Time-length = 16, Done = False\n",
            "Action = 1, State = 37, Reward = 1, Time-length = 15, Done = False\n",
            "Action = 1, State = 37, Reward = 1, Time-length = 14, Done = False\n",
            "Action = 1, State = 37, Reward = 1, Time-length = 13, Done = False\n",
            "Action = 1, State = 37, Reward = 1, Time-length = 12, Done = False\n",
            "Action = 1, State = 37, Reward = 1, Time-length = 11, Done = False\n",
            "Action = 1, State = 37, Reward = 1, Time-length = 10, Done = False\n",
            "Action = 1, State = 37, Reward = 1, Time-length = 9, Done = False\n",
            "Action = 1, State = 37, Reward = 1, Time-length = 8, Done = False\n",
            "Action = 1, State = 37, Reward = 1, Time-length = 7, Done = False\n",
            "Action = 1, State = 37, Reward = 1, Time-length = 6, Done = False\n",
            "Action = 1, State = 37, Reward = 1, Time-length = 5, Done = False\n",
            "Action = 1, State = 37, Reward = 1, Time-length = 4, Done = False\n",
            "Action = 1, State = 37, Reward = 1, Time-length = 3, Done = False\n",
            "Action = 1, State = 37, Reward = 1, Time-length = 2, Done = False\n",
            "Action = 1, State = 37, Reward = 1, Time-length = 1, Done = False\n",
            "Action = 1, State = 37, Reward = 1, Time-length = 0, Done = True\n"
          ]
        }
      ]
    },
    {
      "cell_type": "code",
      "source": [],
      "metadata": {
        "id": "agviaZIa2FaQ"
      },
      "execution_count": null,
      "outputs": []
    }
  ]
}